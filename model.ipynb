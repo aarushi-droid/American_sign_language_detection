{
 "cells": [
  {
   "cell_type": "code",
   "execution_count": 4,
   "id": "463d1dca",
   "metadata": {},
   "outputs": [
    {
     "name": "stdout",
     "output_type": "stream",
     "text": [
      "Validation Accuracy: 1.00\n",
      "Model saved to asl_model_knn.pkl\n"
     ]
    }
   ],
   "source": [
    "import pandas as pd\n",
    "from sklearn.model_selection import train_test_split\n",
    "from sklearn.neighbors import KNeighborsClassifier\n",
    "from sklearn.metrics import accuracy_score\n",
    "import joblib\n",
    "\n",
    "# --- Load and Prepare Dataset ---\n",
    "def load_dataset(csv_path):\n",
    "    df = pd.read_csv(csv_path)\n",
    "    X = df.drop('label', axis=1)\n",
    "    y = df['label']\n",
    "    return X, y\n",
    "\n",
    "# --- Train the Model ---\n",
    "def train_model(X_train, y_train, n_neighbors=5):\n",
    "    knn = KNeighborsClassifier(n_neighbors=n_neighbors)\n",
    "    knn.fit(X_train, y_train)\n",
    "    return knn\n",
    "\n",
    "# --- Evaluate the Model ---\n",
    "def evaluate_model(model, X_test, y_test):\n",
    "    y_pred = model.predict(X_test)\n",
    "    accuracy = accuracy_score(y_test, y_pred)\n",
    "    print(f\"Validation Accuracy: {accuracy:.2f}\")\n",
    "\n",
    "# --- Save the Trained Model ---\n",
    "def save_model(model, filename='asl_model_knn.pkl'):\n",
    "    joblib.dump(model, filename)\n",
    "    print(f\"Model saved to {filename}\")\n",
    "\n",
    "# --- Main Execution ---\n",
    "if __name__ == \"__main__\":\n",
    "    csv_path = r\"D:\\American_sign_language detection\\asl_dataset\\all_landmarks.csv\"\n",
    "    X, y = load_dataset(csv_path)\n",
    "\n",
    "    # Split the data\n",
    "    X_train, X_test, y_train, y_test = train_test_split(X, y, test_size=0.2, random_state=42)\n",
    "\n",
    "    # Train and evaluate\n",
    "    model = train_model(X_train, y_train)\n",
    "    evaluate_model(model, X_test, y_test)\n",
    "\n",
    "    # Save model\n",
    "    save_model(model)"
   ]
  },
  {
   "cell_type": "code",
   "execution_count": null,
   "id": "ea5c2cf0",
   "metadata": {},
   "outputs": [],
   "source": []
  }
 ],
 "metadata": {
  "kernelspec": {
   "display_name": "Python 3",
   "language": "python",
   "name": "python3"
  },
  "language_info": {
   "codemirror_mode": {
    "name": "ipython",
    "version": 3
   },
   "file_extension": ".py",
   "mimetype": "text/x-python",
   "name": "python",
   "nbconvert_exporter": "python",
   "pygments_lexer": "ipython3",
   "version": "3.11.2"
  }
 },
 "nbformat": 4,
 "nbformat_minor": 5
}
